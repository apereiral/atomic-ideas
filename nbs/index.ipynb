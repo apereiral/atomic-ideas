{
 "cells": [
  {
   "cell_type": "code",
   "execution_count": null,
   "metadata": {},
   "outputs": [],
   "source": [
    "#| hide\n",
    "from atomic_ideas.core import *"
   ]
  },
  {
   "cell_type": "markdown",
   "metadata": {},
   "source": [
    "# Composable Papers: a step towards thinking the unthinkable in AI\n",
    "\n",
    "> This is an attempt to reproduce and document AI publications into a modular framework with every paper being decomposed into its smallest (**atomic**) proposed **ideas**. \n",
    ">\n",
    "> The goal is twofold: \n",
    "> - greater flexibility to develop and experiment with new ideas on top of or through new compositions of old ones; \n",
    "> - better reproducibility and understanding, since the compositionality constraint helps to evaluate the ideas as independently as possible."
   ]
  },
  {
   "cell_type": "markdown",
   "metadata": {},
   "source": [
    "## Introduction"
   ]
  },
  {
   "cell_type": "markdown",
   "metadata": {},
   "source": [
    "Almost 10 years ago, Bret Victor gave a talk where he argued that we should build tools for thinking unthinkable thoughts. If this sentence alone had you wonder \"what does he mean by 'unthinkable thoughts'?\" or even \"if the thoughts are unthinkable, how can we possibly build tools to think them?\", I highly recommend that you go watch his full talk. It is 40 minutes long, but it is totally worth it. Nevertheless, I'll try to summarize the argument as much as I can without failing it.\n",
    "\n",
    "The  define unthinkable thoughts, Bret quotes the paper \"The unreasonable effectiveness of mathematics\" by Richard Hamming"
   ]
  },
  {
   "cell_type": "markdown",
   "metadata": {},
   "source": [
    "## Install"
   ]
  },
  {
   "cell_type": "markdown",
   "metadata": {},
   "source": [
    "```sh\n",
    "pip install atomic_ideas\n",
    "```"
   ]
  },
  {
   "cell_type": "code",
   "execution_count": null,
   "metadata": {},
   "outputs": [],
   "source": []
  }
 ],
 "metadata": {
  "kernelspec": {
   "display_name": "python3",
   "language": "python",
   "name": "python3"
  }
 },
 "nbformat": 4,
 "nbformat_minor": 4
}
